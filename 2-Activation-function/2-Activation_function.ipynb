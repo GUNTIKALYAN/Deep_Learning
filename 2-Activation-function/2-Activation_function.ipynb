{
 "cells": [
  {
   "cell_type": "markdown",
   "id": "f2d020f9",
   "metadata": {},
   "source": [
    "### Implementation of activation functions in python\n"
   ]
  },
  {
   "cell_type": "markdown",
   "id": "7b2b6db3",
   "metadata": {},
   "source": [
    "#### Sigmoid : The sigmoid function is a mathematical function that maps any real-valued number to a value between 0 and 1, producing an S-shaped curve"
   ]
  },
  {
   "cell_type": "code",
   "execution_count": 1,
   "id": "fa7bde00",
   "metadata": {},
   "outputs": [],
   "source": [
    "import math\n",
    "\n",
    "def sigmoid(x):\n",
    "  return 1 / (1 + math.exp(-x))"
   ]
  },
  {
   "cell_type": "code",
   "execution_count": 2,
   "id": "bb2e7502",
   "metadata": {},
   "outputs": [
    {
     "data": {
      "text/plain": [
       "1.0"
      ]
     },
     "execution_count": 2,
     "metadata": {},
     "output_type": "execute_result"
    }
   ],
   "source": [
    "sigmoid(100)"
   ]
  },
  {
   "cell_type": "code",
   "execution_count": 3,
   "id": "98870aa4",
   "metadata": {},
   "outputs": [
    {
     "data": {
      "text/plain": [
       "1.928749847963918e-22"
      ]
     },
     "execution_count": 3,
     "metadata": {},
     "output_type": "execute_result"
    }
   ],
   "source": [
    "sigmoid(-50)"
   ]
  },
  {
   "cell_type": "markdown",
   "id": "4f2e2f89",
   "metadata": {},
   "source": [
    "#### tanh : Tanh (hyperbolic tangent) is a type of activation function that transforms its input into a value between -1 and 1."
   ]
  },
  {
   "cell_type": "code",
   "execution_count": 4,
   "id": "a5a50c28",
   "metadata": {},
   "outputs": [],
   "source": [
    "def tanh(x):\n",
    "  return (math.exp(x) - math.exp(-x)) / (math.exp(x) + math.exp(-x))\n"
   ]
  },
  {
   "cell_type": "code",
   "execution_count": 5,
   "id": "e76d303f",
   "metadata": {},
   "outputs": [
    {
     "data": {
      "text/plain": [
       "1.0"
      ]
     },
     "execution_count": 5,
     "metadata": {},
     "output_type": "execute_result"
    }
   ],
   "source": [
    "tanh(45)"
   ]
  },
  {
   "cell_type": "code",
   "execution_count": 6,
   "id": "3ed6a23d",
   "metadata": {},
   "outputs": [
    {
     "data": {
      "text/plain": [
       "-1.0"
      ]
     },
     "execution_count": 6,
     "metadata": {},
     "output_type": "execute_result"
    }
   ],
   "source": [
    "tanh(-100)"
   ]
  },
  {
   "cell_type": "code",
   "execution_count": 7,
   "id": "a0b1f8dd",
   "metadata": {},
   "outputs": [
    {
     "data": {
      "text/plain": [
       "0.7615941559557649"
      ]
     },
     "execution_count": 7,
     "metadata": {},
     "output_type": "execute_result"
    }
   ],
   "source": [
    "tanh(1)"
   ]
  },
  {
   "cell_type": "markdown",
   "id": "b4f750b4",
   "metadata": {},
   "source": [
    "#### Relu : The ReLU (Rectified Linear Unit) activation function is a popular choice in neural networks. It outputs the input directly if it's positive and zero otherwise, effectively acting as a \"half-wave rectifier\""
   ]
  },
  {
   "cell_type": "code",
   "execution_count": 8,
   "id": "ce41e6a0",
   "metadata": {},
   "outputs": [],
   "source": [
    "def relu(x):\n",
    "    return max(0,x)"
   ]
  },
  {
   "cell_type": "code",
   "execution_count": 9,
   "id": "4f889d92",
   "metadata": {},
   "outputs": [
    {
     "data": {
      "text/plain": [
       "0"
      ]
     },
     "execution_count": 9,
     "metadata": {},
     "output_type": "execute_result"
    }
   ],
   "source": [
    "relu(-111)"
   ]
  },
  {
   "cell_type": "code",
   "execution_count": 10,
   "id": "92404fb3",
   "metadata": {},
   "outputs": [
    {
     "data": {
      "text/plain": [
       "10"
      ]
     },
     "execution_count": 10,
     "metadata": {},
     "output_type": "execute_result"
    }
   ],
   "source": [
    "relu(10)"
   ]
  },
  {
   "cell_type": "code",
   "execution_count": 11,
   "id": "c3928688",
   "metadata": {},
   "outputs": [
    {
     "data": {
      "text/plain": [
       "0"
      ]
     },
     "execution_count": 11,
     "metadata": {},
     "output_type": "execute_result"
    }
   ],
   "source": [
    "relu(-1)"
   ]
  },
  {
   "cell_type": "markdown",
   "id": "f49b1bd6",
   "metadata": {},
   "source": [
    "#### Leaky ReLU : Leaky ReLU (Rectified Linear Unit) is an activation function in neural networks that attempts to address the \"dying ReLU\" problem, where neurons can become inactive during training"
   ]
  },
  {
   "cell_type": "code",
   "execution_count": 12,
   "id": "b08a1f7e",
   "metadata": {},
   "outputs": [],
   "source": [
    "def leaky_relu(x):\n",
    "    return max(0.1*x,x)"
   ]
  },
  {
   "cell_type": "code",
   "execution_count": 13,
   "id": "597a60bb",
   "metadata": {},
   "outputs": [
    {
     "data": {
      "text/plain": [
       "-10.0"
      ]
     },
     "execution_count": 13,
     "metadata": {},
     "output_type": "execute_result"
    }
   ],
   "source": [
    "leaky_relu(-100)"
   ]
  },
  {
   "cell_type": "code",
   "execution_count": 14,
   "id": "949f3b68",
   "metadata": {},
   "outputs": [
    {
     "data": {
      "text/plain": [
       "10"
      ]
     },
     "execution_count": 14,
     "metadata": {},
     "output_type": "execute_result"
    }
   ],
   "source": [
    "leaky_relu(10)"
   ]
  },
  {
   "cell_type": "code",
   "execution_count": 15,
   "id": "02de3d7d",
   "metadata": {},
   "outputs": [
    {
     "data": {
      "text/plain": [
       "1"
      ]
     },
     "execution_count": 15,
     "metadata": {},
     "output_type": "execute_result"
    }
   ],
   "source": [
    "leaky_relu(1)"
   ]
  },
  {
   "cell_type": "code",
   "execution_count": 16,
   "id": "8569a1dd",
   "metadata": {},
   "outputs": [
    {
     "data": {
      "text/plain": [
       "200"
      ]
     },
     "execution_count": 16,
     "metadata": {},
     "output_type": "execute_result"
    }
   ],
   "source": [
    "leaky_relu(200)"
   ]
  },
  {
   "cell_type": "code",
   "execution_count": null,
   "id": "a00d12f3",
   "metadata": {},
   "outputs": [],
   "source": []
  }
 ],
 "metadata": {
  "kernelspec": {
   "display_name": "base",
   "language": "python",
   "name": "python3"
  },
  "language_info": {
   "codemirror_mode": {
    "name": "ipython",
    "version": 3
   },
   "file_extension": ".py",
   "mimetype": "text/x-python",
   "name": "python",
   "nbconvert_exporter": "python",
   "pygments_lexer": "ipython3",
   "version": "3.12.4"
  }
 },
 "nbformat": 4,
 "nbformat_minor": 5
}
